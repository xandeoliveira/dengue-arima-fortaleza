{
 "cells": [
  {
   "cell_type": "markdown",
   "id": "89d831d4",
   "metadata": {},
   "source": [
    "# Importações"
   ]
  },
  {
   "cell_type": "code",
   "execution_count": 5,
   "id": "93b11c07",
   "metadata": {},
   "outputs": [],
   "source": [
    "import pandas as pd\n",
    "from statsforecast import StatsForecast\n",
    "from statsforecast.models import AutoARIMA\n",
    "from sklearn.metrics import mean_squared_error, mean_absolute_error\n",
    "import numpy as np"
   ]
  },
  {
   "cell_type": "markdown",
   "id": "f0c93ed8",
   "metadata": {},
   "source": [
    "# Carregar dataset"
   ]
  },
  {
   "cell_type": "code",
   "execution_count": 3,
   "id": "e5c35f93",
   "metadata": {},
   "outputs": [],
   "source": [
    "df = pd.read_csv(\"dataset/fortaleza-2024.csv\", index_col=\"SE\")"
   ]
  },
  {
   "cell_type": "markdown",
   "id": "1592b4e5",
   "metadata": {},
   "source": [
    "# Validação Cruzada"
   ]
  },
  {
   "cell_type": "code",
   "execution_count": 4,
   "id": "7f483d45",
   "metadata": {},
   "outputs": [],
   "source": [
    "st = StatsForecast(models=[AutoARIMA()], freq=\"W\")\n",
    "\n",
    "cross_validation = st.cross_validation(df=df, h=52, step_size=3, n_windows=10, level=[80])"
   ]
  },
  {
   "cell_type": "code",
   "execution_count": 6,
   "id": "6006a2c7",
   "metadata": {},
   "outputs": [
    {
     "data": {
      "text/html": [
       "<div>\n",
       "<style scoped>\n",
       "    .dataframe tbody tr th:only-of-type {\n",
       "        vertical-align: middle;\n",
       "    }\n",
       "\n",
       "    .dataframe tbody tr th {\n",
       "        vertical-align: top;\n",
       "    }\n",
       "\n",
       "    .dataframe thead th {\n",
       "        text-align: right;\n",
       "    }\n",
       "</style>\n",
       "<table border=\"1\" class=\"dataframe\">\n",
       "  <thead>\n",
       "    <tr style=\"text-align: right;\">\n",
       "      <th></th>\n",
       "      <th>unique_id</th>\n",
       "      <th>ds</th>\n",
       "      <th>cutoff</th>\n",
       "      <th>y</th>\n",
       "      <th>AutoARIMA</th>\n",
       "      <th>AutoARIMA-lo-80</th>\n",
       "      <th>AutoARIMA-hi-80</th>\n",
       "    </tr>\n",
       "  </thead>\n",
       "  <tbody>\n",
       "    <tr>\n",
       "      <th>0</th>\n",
       "      <td>1</td>\n",
       "      <td>2023-06-25</td>\n",
       "      <td>2023-06-18</td>\n",
       "      <td>252.0</td>\n",
       "      <td>289.038788</td>\n",
       "      <td>89.005829</td>\n",
       "      <td>489.071777</td>\n",
       "    </tr>\n",
       "    <tr>\n",
       "      <th>1</th>\n",
       "      <td>1</td>\n",
       "      <td>2023-07-02</td>\n",
       "      <td>2023-06-18</td>\n",
       "      <td>313.0</td>\n",
       "      <td>298.441895</td>\n",
       "      <td>-30.217079</td>\n",
       "      <td>627.100891</td>\n",
       "    </tr>\n",
       "    <tr>\n",
       "      <th>2</th>\n",
       "      <td>1</td>\n",
       "      <td>2023-07-09</td>\n",
       "      <td>2023-06-18</td>\n",
       "      <td>302.0</td>\n",
       "      <td>303.049744</td>\n",
       "      <td>-134.696533</td>\n",
       "      <td>740.796021</td>\n",
       "    </tr>\n",
       "    <tr>\n",
       "      <th>3</th>\n",
       "      <td>1</td>\n",
       "      <td>2023-07-16</td>\n",
       "      <td>2023-06-18</td>\n",
       "      <td>244.0</td>\n",
       "      <td>320.048309</td>\n",
       "      <td>-216.313080</td>\n",
       "      <td>856.409668</td>\n",
       "    </tr>\n",
       "    <tr>\n",
       "      <th>4</th>\n",
       "      <td>1</td>\n",
       "      <td>2023-07-23</td>\n",
       "      <td>2023-06-18</td>\n",
       "      <td>203.0</td>\n",
       "      <td>344.326263</td>\n",
       "      <td>-289.249908</td>\n",
       "      <td>977.902466</td>\n",
       "    </tr>\n",
       "    <tr>\n",
       "      <th>...</th>\n",
       "      <td>...</td>\n",
       "      <td>...</td>\n",
       "      <td>...</td>\n",
       "      <td>...</td>\n",
       "      <td>...</td>\n",
       "      <td>...</td>\n",
       "      <td>...</td>\n",
       "    </tr>\n",
       "    <tr>\n",
       "      <th>515</th>\n",
       "      <td>1</td>\n",
       "      <td>2024-11-24</td>\n",
       "      <td>2023-12-24</td>\n",
       "      <td>99.0</td>\n",
       "      <td>481.845825</td>\n",
       "      <td>-366.349976</td>\n",
       "      <td>1330.041626</td>\n",
       "    </tr>\n",
       "    <tr>\n",
       "      <th>516</th>\n",
       "      <td>1</td>\n",
       "      <td>2024-12-01</td>\n",
       "      <td>2023-12-24</td>\n",
       "      <td>85.0</td>\n",
       "      <td>481.930481</td>\n",
       "      <td>-366.265625</td>\n",
       "      <td>1330.126587</td>\n",
       "    </tr>\n",
       "    <tr>\n",
       "      <th>517</th>\n",
       "      <td>1</td>\n",
       "      <td>2024-12-08</td>\n",
       "      <td>2023-12-24</td>\n",
       "      <td>82.0</td>\n",
       "      <td>482.004059</td>\n",
       "      <td>-366.192261</td>\n",
       "      <td>1330.200317</td>\n",
       "    </tr>\n",
       "    <tr>\n",
       "      <th>518</th>\n",
       "      <td>1</td>\n",
       "      <td>2024-12-15</td>\n",
       "      <td>2023-12-24</td>\n",
       "      <td>65.0</td>\n",
       "      <td>482.067963</td>\n",
       "      <td>-366.128510</td>\n",
       "      <td>1330.264404</td>\n",
       "    </tr>\n",
       "    <tr>\n",
       "      <th>519</th>\n",
       "      <td>1</td>\n",
       "      <td>2024-12-22</td>\n",
       "      <td>2023-12-24</td>\n",
       "      <td>42.0</td>\n",
       "      <td>482.123505</td>\n",
       "      <td>-366.073059</td>\n",
       "      <td>1330.320068</td>\n",
       "    </tr>\n",
       "  </tbody>\n",
       "</table>\n",
       "<p>520 rows × 7 columns</p>\n",
       "</div>"
      ],
      "text/plain": [
       "     unique_id         ds     cutoff      y   AutoARIMA  AutoARIMA-lo-80  \\\n",
       "0            1 2023-06-25 2023-06-18  252.0  289.038788        89.005829   \n",
       "1            1 2023-07-02 2023-06-18  313.0  298.441895       -30.217079   \n",
       "2            1 2023-07-09 2023-06-18  302.0  303.049744      -134.696533   \n",
       "3            1 2023-07-16 2023-06-18  244.0  320.048309      -216.313080   \n",
       "4            1 2023-07-23 2023-06-18  203.0  344.326263      -289.249908   \n",
       "..         ...        ...        ...    ...         ...              ...   \n",
       "515          1 2024-11-24 2023-12-24   99.0  481.845825      -366.349976   \n",
       "516          1 2024-12-01 2023-12-24   85.0  481.930481      -366.265625   \n",
       "517          1 2024-12-08 2023-12-24   82.0  482.004059      -366.192261   \n",
       "518          1 2024-12-15 2023-12-24   65.0  482.067963      -366.128510   \n",
       "519          1 2024-12-22 2023-12-24   42.0  482.123505      -366.073059   \n",
       "\n",
       "     AutoARIMA-hi-80  \n",
       "0         489.071777  \n",
       "1         627.100891  \n",
       "2         740.796021  \n",
       "3         856.409668  \n",
       "4         977.902466  \n",
       "..               ...  \n",
       "515      1330.041626  \n",
       "516      1330.126587  \n",
       "517      1330.200317  \n",
       "518      1330.264404  \n",
       "519      1330.320068  \n",
       "\n",
       "[520 rows x 7 columns]"
      ]
     },
     "execution_count": 6,
     "metadata": {},
     "output_type": "execute_result"
    }
   ],
   "source": [
    "cross_validation"
   ]
  },
  {
   "cell_type": "markdown",
   "id": "234d0820",
   "metadata": {},
   "source": [
    "# Métricas"
   ]
  },
  {
   "cell_type": "code",
   "execution_count": 7,
   "id": "3548c880",
   "metadata": {},
   "outputs": [],
   "source": [
    "y_true = cross_validation[\"y\"]\n",
    "y_pred = cross_validation[\"AutoARIMA\"]\n",
    "\n",
    "mse = mean_squared_error(y_true, y_pred)\n",
    "rmse = np.sqrt(mse)\n",
    "mae = mean_absolute_error(y_true, y_pred)"
   ]
  },
  {
   "cell_type": "markdown",
   "id": "1fe3286d",
   "metadata": {},
   "source": [
    "# Mostrando Métricas"
   ]
  },
  {
   "cell_type": "code",
   "execution_count": 8,
   "id": "b3c88532",
   "metadata": {},
   "outputs": [
    {
     "name": "stdout",
     "output_type": "stream",
     "text": [
      "MSE: 76131.92\n",
      "RMSE: 275.92\n",
      "MAE: 247.80\n",
      "\n"
     ]
    }
   ],
   "source": [
    "print(f\"MSE: {mse:.2f}\")\n",
    "print(f\"RMSE: {rmse:.2f}\")\n",
    "print(f\"MAE: {mae:.2f}\\n\")"
   ]
  }
 ],
 "metadata": {
  "kernelspec": {
   "display_name": "venv",
   "language": "python",
   "name": "python3"
  },
  "language_info": {
   "codemirror_mode": {
    "name": "ipython",
    "version": 3
   },
   "file_extension": ".py",
   "mimetype": "text/x-python",
   "name": "python",
   "nbconvert_exporter": "python",
   "pygments_lexer": "ipython3",
   "version": "3.12.3"
  }
 },
 "nbformat": 4,
 "nbformat_minor": 5
}
