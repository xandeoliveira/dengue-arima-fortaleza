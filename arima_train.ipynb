{
 "cells": [
  {
   "cell_type": "markdown",
   "id": "1a57f279",
   "metadata": {},
   "source": [
    "# Importações"
   ]
  },
  {
   "cell_type": "code",
   "execution_count": 1,
   "id": "b83394d1",
   "metadata": {},
   "outputs": [
    {
     "name": "stderr",
     "output_type": "stream",
     "text": [
      "/home/xande/Desenvolvimento/dengue-arima-fortaleza/venv/lib/python3.12/site-packages/tqdm/auto.py:21: TqdmWarning: IProgress not found. Please update jupyter and ipywidgets. See https://ipywidgets.readthedocs.io/en/stable/user_install.html\n",
      "  from .autonotebook import tqdm as notebook_tqdm\n"
     ]
    }
   ],
   "source": [
    "import pandas as pd\n",
    "from os import getcwd\n",
    "from statsforecast import StatsForecast\n",
    "from statsforecast.models import AutoARIMA"
   ]
  },
  {
   "cell_type": "markdown",
   "id": "ea2a8a35",
   "metadata": {},
   "source": [
    "# Busca do Dataframe"
   ]
  },
  {
   "cell_type": "code",
   "execution_count": 3,
   "id": "a7d27ba9",
   "metadata": {},
   "outputs": [],
   "source": [
    "df = pd.read_csv(getcwd() + \"/dataset/fortaleza.csv\", index_col=\"SE\")"
   ]
  },
  {
   "cell_type": "markdown",
   "id": "87491efe",
   "metadata": {},
   "source": [
    "# Especificação e criação do modelo"
   ]
  },
  {
   "cell_type": "code",
   "execution_count": 4,
   "id": "b3325cac",
   "metadata": {},
   "outputs": [
    {
     "data": {
      "text/plain": [
       "StatsForecast(models=[AutoARIMA])"
      ]
     },
     "execution_count": 4,
     "metadata": {},
     "output_type": "execute_result"
    }
   ],
   "source": [
    "models = [AutoARIMA(season_length=52)]\n",
    "model = StatsForecast(models=models, freq='W')\n",
    "model"
   ]
  },
  {
   "cell_type": "markdown",
   "id": "b43a36b3",
   "metadata": {},
   "source": [
    "# Recorte para os dados de treinamento"
   ]
  },
  {
   "cell_type": "code",
   "execution_count": 5,
   "id": "bc565000",
   "metadata": {},
   "outputs": [
    {
     "data": {
      "text/html": [
       "<div>\n",
       "<style scoped>\n",
       "    .dataframe tbody tr th:only-of-type {\n",
       "        vertical-align: middle;\n",
       "    }\n",
       "\n",
       "    .dataframe tbody tr th {\n",
       "        vertical-align: top;\n",
       "    }\n",
       "\n",
       "    .dataframe thead th {\n",
       "        text-align: right;\n",
       "    }\n",
       "</style>\n",
       "<table border=\"1\" class=\"dataframe\">\n",
       "  <thead>\n",
       "    <tr style=\"text-align: right;\">\n",
       "      <th></th>\n",
       "      <th>ds</th>\n",
       "      <th>y</th>\n",
       "      <th>unique_id</th>\n",
       "    </tr>\n",
       "    <tr>\n",
       "      <th>SE</th>\n",
       "      <th></th>\n",
       "      <th></th>\n",
       "      <th></th>\n",
       "    </tr>\n",
       "  </thead>\n",
       "  <tbody>\n",
       "    <tr>\n",
       "      <th>202501</th>\n",
       "      <td>2024-12-29</td>\n",
       "      <td>57</td>\n",
       "      <td>1</td>\n",
       "    </tr>\n",
       "    <tr>\n",
       "      <th>202452</th>\n",
       "      <td>2024-12-22</td>\n",
       "      <td>42</td>\n",
       "      <td>1</td>\n",
       "    </tr>\n",
       "    <tr>\n",
       "      <th>202451</th>\n",
       "      <td>2024-12-15</td>\n",
       "      <td>65</td>\n",
       "      <td>1</td>\n",
       "    </tr>\n",
       "    <tr>\n",
       "      <th>202450</th>\n",
       "      <td>2024-12-08</td>\n",
       "      <td>82</td>\n",
       "      <td>1</td>\n",
       "    </tr>\n",
       "    <tr>\n",
       "      <th>202449</th>\n",
       "      <td>2024-12-01</td>\n",
       "      <td>85</td>\n",
       "      <td>1</td>\n",
       "    </tr>\n",
       "    <tr>\n",
       "      <th>...</th>\n",
       "      <td>...</td>\n",
       "      <td>...</td>\n",
       "      <td>...</td>\n",
       "    </tr>\n",
       "    <tr>\n",
       "      <th>201405</th>\n",
       "      <td>2014-01-26</td>\n",
       "      <td>180</td>\n",
       "      <td>1</td>\n",
       "    </tr>\n",
       "    <tr>\n",
       "      <th>201404</th>\n",
       "      <td>2014-01-19</td>\n",
       "      <td>150</td>\n",
       "      <td>1</td>\n",
       "    </tr>\n",
       "    <tr>\n",
       "      <th>201403</th>\n",
       "      <td>2014-01-12</td>\n",
       "      <td>107</td>\n",
       "      <td>1</td>\n",
       "    </tr>\n",
       "    <tr>\n",
       "      <th>201402</th>\n",
       "      <td>2014-01-05</td>\n",
       "      <td>77</td>\n",
       "      <td>1</td>\n",
       "    </tr>\n",
       "    <tr>\n",
       "      <th>201401</th>\n",
       "      <td>2013-12-29</td>\n",
       "      <td>40</td>\n",
       "      <td>1</td>\n",
       "    </tr>\n",
       "  </tbody>\n",
       "</table>\n",
       "<p>575 rows × 3 columns</p>\n",
       "</div>"
      ],
      "text/plain": [
       "               ds    y  unique_id\n",
       "SE                               \n",
       "202501 2024-12-29   57          1\n",
       "202452 2024-12-22   42          1\n",
       "202451 2024-12-15   65          1\n",
       "202450 2024-12-08   82          1\n",
       "202449 2024-12-01   85          1\n",
       "...           ...  ...        ...\n",
       "201405 2014-01-26  180          1\n",
       "201404 2014-01-19  150          1\n",
       "201403 2014-01-12  107          1\n",
       "201402 2014-01-05   77          1\n",
       "201401 2013-12-29   40          1\n",
       "\n",
       "[575 rows x 3 columns]"
      ]
     },
     "execution_count": 5,
     "metadata": {},
     "output_type": "execute_result"
    }
   ],
   "source": [
    "df[\"ds\"] = pd.to_datetime(df[\"ds\"])\n",
    "y_train = df[df.ds.dt.year < 2025]\n",
    "y_train"
   ]
  },
  {
   "cell_type": "markdown",
   "id": "4c3ab550",
   "metadata": {},
   "source": [
    "# Treinar e salvar o modelo"
   ]
  },
  {
   "cell_type": "code",
   "execution_count": 6,
   "id": "ba9ae321",
   "metadata": {},
   "outputs": [
    {
     "name": "stdout",
     "output_type": "stream",
     "text": [
      "Saving StatsForecast object of size 120.32KB.\n",
      "StatsForecast object saved\n"
     ]
    }
   ],
   "source": [
    "model.fit(df=df)\n",
    "model.save(path=\"modelos/modelo_2025\")"
   ]
  }
 ],
 "metadata": {
  "kernelspec": {
   "display_name": "venv",
   "language": "python",
   "name": "python3"
  },
  "language_info": {
   "codemirror_mode": {
    "name": "ipython",
    "version": 3
   },
   "file_extension": ".py",
   "mimetype": "text/x-python",
   "name": "python",
   "nbconvert_exporter": "python",
   "pygments_lexer": "ipython3",
   "version": "3.12.3"
  }
 },
 "nbformat": 4,
 "nbformat_minor": 5
}
