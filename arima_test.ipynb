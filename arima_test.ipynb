{
 "cells": [
  {
   "cell_type": "markdown",
   "id": "2ae2917f",
   "metadata": {},
   "source": [
    "# Importações"
   ]
  },
  {
   "cell_type": "code",
   "execution_count": 1,
   "id": "9779f027",
   "metadata": {},
   "outputs": [
    {
     "name": "stderr",
     "output_type": "stream",
     "text": [
      "/home/xande/Desenvolvimento/dengue-arima-fortaleza/venv/lib/python3.12/site-packages/tqdm/auto.py:21: TqdmWarning: IProgress not found. Please update jupyter and ipywidgets. See https://ipywidgets.readthedocs.io/en/stable/user_install.html\n",
      "  from .autonotebook import tqdm as notebook_tqdm\n"
     ]
    }
   ],
   "source": [
    "import pandas as pd\n",
    "from statsforecast import StatsForecast\n",
    "# import matplotlib.pyplot as plt"
   ]
  },
  {
   "cell_type": "markdown",
   "id": "e7181006",
   "metadata": {},
   "source": [
    "# Carregando dataframe"
   ]
  },
  {
   "cell_type": "code",
   "execution_count": 2,
   "id": "ca2462c3",
   "metadata": {},
   "outputs": [],
   "source": [
    "df = pd.read_csv(\"dataset/fortaleza.csv\", index_col=\"SE\")"
   ]
  },
  {
   "cell_type": "markdown",
   "id": "e7b3465e",
   "metadata": {},
   "source": [
    "# Separando dado de teste (ano de 2025)"
   ]
  },
  {
   "cell_type": "code",
   "execution_count": 10,
   "id": "9654d69d",
   "metadata": {},
   "outputs": [],
   "source": [
    "df[\"ds\"] = pd.to_datetime(df[\"ds\"])\n",
    "y_test = df[df.ds.dt.year == 2025]"
   ]
  },
  {
   "cell_type": "code",
   "execution_count": 11,
   "id": "d9f3864b",
   "metadata": {},
   "outputs": [
    {
     "data": {
      "text/html": [
       "<div>\n",
       "<style scoped>\n",
       "    .dataframe tbody tr th:only-of-type {\n",
       "        vertical-align: middle;\n",
       "    }\n",
       "\n",
       "    .dataframe tbody tr th {\n",
       "        vertical-align: top;\n",
       "    }\n",
       "\n",
       "    .dataframe thead th {\n",
       "        text-align: right;\n",
       "    }\n",
       "</style>\n",
       "<table border=\"1\" class=\"dataframe\">\n",
       "  <thead>\n",
       "    <tr style=\"text-align: right;\">\n",
       "      <th></th>\n",
       "      <th>ds</th>\n",
       "      <th>y</th>\n",
       "      <th>unique_id</th>\n",
       "    </tr>\n",
       "    <tr>\n",
       "      <th>SE</th>\n",
       "      <th></th>\n",
       "      <th></th>\n",
       "      <th></th>\n",
       "    </tr>\n",
       "  </thead>\n",
       "  <tbody>\n",
       "    <tr>\n",
       "      <th>202520</th>\n",
       "      <td>2025-05-11</td>\n",
       "      <td>16</td>\n",
       "      <td>1</td>\n",
       "    </tr>\n",
       "    <tr>\n",
       "      <th>202519</th>\n",
       "      <td>2025-05-04</td>\n",
       "      <td>70</td>\n",
       "      <td>1</td>\n",
       "    </tr>\n",
       "    <tr>\n",
       "      <th>202518</th>\n",
       "      <td>2025-04-27</td>\n",
       "      <td>109</td>\n",
       "      <td>1</td>\n",
       "    </tr>\n",
       "    <tr>\n",
       "      <th>202517</th>\n",
       "      <td>2025-04-20</td>\n",
       "      <td>122</td>\n",
       "      <td>1</td>\n",
       "    </tr>\n",
       "    <tr>\n",
       "      <th>202516</th>\n",
       "      <td>2025-04-13</td>\n",
       "      <td>114</td>\n",
       "      <td>1</td>\n",
       "    </tr>\n",
       "    <tr>\n",
       "      <th>202515</th>\n",
       "      <td>2025-04-06</td>\n",
       "      <td>102</td>\n",
       "      <td>1</td>\n",
       "    </tr>\n",
       "    <tr>\n",
       "      <th>202514</th>\n",
       "      <td>2025-03-30</td>\n",
       "      <td>142</td>\n",
       "      <td>1</td>\n",
       "    </tr>\n",
       "    <tr>\n",
       "      <th>202513</th>\n",
       "      <td>2025-03-23</td>\n",
       "      <td>146</td>\n",
       "      <td>1</td>\n",
       "    </tr>\n",
       "    <tr>\n",
       "      <th>202512</th>\n",
       "      <td>2025-03-16</td>\n",
       "      <td>154</td>\n",
       "      <td>1</td>\n",
       "    </tr>\n",
       "    <tr>\n",
       "      <th>202511</th>\n",
       "      <td>2025-03-09</td>\n",
       "      <td>166</td>\n",
       "      <td>1</td>\n",
       "    </tr>\n",
       "    <tr>\n",
       "      <th>202510</th>\n",
       "      <td>2025-03-02</td>\n",
       "      <td>115</td>\n",
       "      <td>1</td>\n",
       "    </tr>\n",
       "    <tr>\n",
       "      <th>202509</th>\n",
       "      <td>2025-02-23</td>\n",
       "      <td>105</td>\n",
       "      <td>1</td>\n",
       "    </tr>\n",
       "    <tr>\n",
       "      <th>202508</th>\n",
       "      <td>2025-02-16</td>\n",
       "      <td>109</td>\n",
       "      <td>1</td>\n",
       "    </tr>\n",
       "    <tr>\n",
       "      <th>202507</th>\n",
       "      <td>2025-02-09</td>\n",
       "      <td>110</td>\n",
       "      <td>1</td>\n",
       "    </tr>\n",
       "    <tr>\n",
       "      <th>202506</th>\n",
       "      <td>2025-02-02</td>\n",
       "      <td>84</td>\n",
       "      <td>1</td>\n",
       "    </tr>\n",
       "    <tr>\n",
       "      <th>202505</th>\n",
       "      <td>2025-01-26</td>\n",
       "      <td>73</td>\n",
       "      <td>1</td>\n",
       "    </tr>\n",
       "    <tr>\n",
       "      <th>202504</th>\n",
       "      <td>2025-01-19</td>\n",
       "      <td>98</td>\n",
       "      <td>1</td>\n",
       "    </tr>\n",
       "    <tr>\n",
       "      <th>202503</th>\n",
       "      <td>2025-01-12</td>\n",
       "      <td>68</td>\n",
       "      <td>1</td>\n",
       "    </tr>\n",
       "    <tr>\n",
       "      <th>202502</th>\n",
       "      <td>2025-01-05</td>\n",
       "      <td>81</td>\n",
       "      <td>1</td>\n",
       "    </tr>\n",
       "  </tbody>\n",
       "</table>\n",
       "</div>"
      ],
      "text/plain": [
       "               ds    y  unique_id\n",
       "SE                               \n",
       "202520 2025-05-11   16          1\n",
       "202519 2025-05-04   70          1\n",
       "202518 2025-04-27  109          1\n",
       "202517 2025-04-20  122          1\n",
       "202516 2025-04-13  114          1\n",
       "202515 2025-04-06  102          1\n",
       "202514 2025-03-30  142          1\n",
       "202513 2025-03-23  146          1\n",
       "202512 2025-03-16  154          1\n",
       "202511 2025-03-09  166          1\n",
       "202510 2025-03-02  115          1\n",
       "202509 2025-02-23  105          1\n",
       "202508 2025-02-16  109          1\n",
       "202507 2025-02-09  110          1\n",
       "202506 2025-02-02   84          1\n",
       "202505 2025-01-26   73          1\n",
       "202504 2025-01-19   98          1\n",
       "202503 2025-01-12   68          1\n",
       "202502 2025-01-05   81          1"
      ]
     },
     "execution_count": 11,
     "metadata": {},
     "output_type": "execute_result"
    }
   ],
   "source": [
    "y_test"
   ]
  },
  {
   "cell_type": "markdown",
   "id": "e0e931cc",
   "metadata": {},
   "source": [
    "# Carregando o modelo treinado anteriormente"
   ]
  },
  {
   "cell_type": "code",
   "execution_count": null,
   "id": "7774a195",
   "metadata": {},
   "outputs": [],
   "source": [
    "model = StatsForecast.load(path=\"modelos/modelo_2025\")"
   ]
  },
  {
   "cell_type": "markdown",
   "id": "d3b1cd04",
   "metadata": {},
   "source": [
    "# Predição para o ano de 2025"
   ]
  },
  {
   "cell_type": "code",
   "execution_count": null,
   "id": "49862cd5",
   "metadata": {},
   "outputs": [],
   "source": [
    "y_predict = model.predict(h=52)\n",
    "y_predict"
   ]
  },
  {
   "cell_type": "markdown",
   "id": "309efbd1",
   "metadata": {},
   "source": [
    "# Salvando a predição"
   ]
  },
  {
   "cell_type": "code",
   "execution_count": null,
   "id": "0d0ccdb4",
   "metadata": {},
   "outputs": [],
   "source": [
    "y_predict.to_csv(path=\"predicts/predict_2025.csv\")"
   ]
  }
 ],
 "metadata": {
  "kernelspec": {
   "display_name": "venv",
   "language": "python",
   "name": "python3"
  },
  "language_info": {
   "codemirror_mode": {
    "name": "ipython",
    "version": 3
   },
   "file_extension": ".py",
   "mimetype": "text/x-python",
   "name": "python",
   "nbconvert_exporter": "python",
   "pygments_lexer": "ipython3",
   "version": "3.12.3"
  }
 },
 "nbformat": 4,
 "nbformat_minor": 5
}
