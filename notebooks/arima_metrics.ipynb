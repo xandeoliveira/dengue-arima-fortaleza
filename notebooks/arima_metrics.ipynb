{
 "cells": [
  {
   "cell_type": "markdown",
   "id": "57be7ebd",
   "metadata": {},
   "source": [
    "# Importações"
   ]
  },
  {
   "cell_type": "code",
   "execution_count": 1,
   "id": "9c400607",
   "metadata": {},
   "outputs": [],
   "source": [
    "from sklearn.metrics import mean_squared_error, mean_absolute_error\n",
    "import numpy as np\n",
    "import pandas as pd"
   ]
  },
  {
   "cell_type": "markdown",
   "id": "41a8ff36",
   "metadata": {},
   "source": [
    "# Carregando datasets"
   ]
  },
  {
   "cell_type": "code",
   "execution_count": 16,
   "id": "8b148743",
   "metadata": {},
   "outputs": [],
   "source": [
    "y_true = pd.read_csv(\"dataset/fortaleza.csv\", index_col=\"SE\")\n",
    "y_true[\"ds\"] = pd.to_datetime(y_true[\"ds\"])\n",
    "y_true = y_true[y_true.ds.dt.year == 2025][\"y\"].values\n",
    "\n",
    "py_pred = pd.read_csv(\"predicoes/predicao-py.csv\")[\"AutoARIMA\"].values\n",
    "r_pred = pd.read_csv(\"predicoes/predicao-r.csv\")[\"Point.Forecast\"].values"
   ]
  },
  {
   "cell_type": "code",
   "execution_count": 18,
   "id": "172c441e",
   "metadata": {},
   "outputs": [],
   "source": [
    "py_pred = py_pred[:19]\n",
    "r_pred = r_pred[:19]"
   ]
  },
  {
   "cell_type": "code",
   "execution_count": 19,
   "id": "78c8bb7a",
   "metadata": {},
   "outputs": [
    {
     "name": "stdout",
     "output_type": "stream",
     "text": [
      "(19,) (19,) (19,)\n"
     ]
    }
   ],
   "source": [
    "print(y_true.shape, py_pred.shape, r_pred.shape)"
   ]
  },
  {
   "cell_type": "markdown",
   "id": "6ddc1d0d",
   "metadata": {},
   "source": [
    "# Calculando Métricas"
   ]
  },
  {
   "cell_type": "code",
   "execution_count": null,
   "id": "7a72dd0d",
   "metadata": {},
   "outputs": [],
   "source": [
    "# Python\n",
    "py_mse = mean_squared_error(y_true, py_pred)\n",
    "py_rmse = np.sqrt(py_mse)\n",
    "py_mae = mean_absolute_error(y_true, py_pred)"
   ]
  },
  {
   "cell_type": "code",
   "execution_count": null,
   "id": "b6a393e0",
   "metadata": {},
   "outputs": [],
   "source": [
    "# R\n",
    "r_mse = mean_squared_error(y_true, r_pred)\n",
    "r_rmse = np.sqrt(r_mse)\n",
    "r_mae = mean_absolute_error(y_true, r_pred)"
   ]
  },
  {
   "cell_type": "markdown",
   "id": "11e00287",
   "metadata": {},
   "source": [
    "# Mostrando Métricas"
   ]
  },
  {
   "cell_type": "code",
   "execution_count": 29,
   "id": "afb335fc",
   "metadata": {},
   "outputs": [
    {
     "name": "stdout",
     "output_type": "stream",
     "text": [
      "Métricas Python:\n",
      "MSE: 54983.62\n",
      "RMSE: 234.49\n",
      "MAE: 207.60\n",
      "\n",
      "Métricas R:\n",
      "MSE: 43945.48\n",
      "RMSE: 209.63\n",
      "MAE: 184.31\n"
     ]
    }
   ],
   "source": [
    "print(\"Métricas Python:\")\n",
    "print(f\"MSE: {py_mse:.2f}\")\n",
    "print(f\"RMSE: {py_rmse:.2f}\")\n",
    "print(f\"MAE: {py_mae:.2f}\\n\")\n",
    "\n",
    "print(\"Métricas R:\")\n",
    "print(f\"MSE: {r_mse:.2f}\")\n",
    "print(f\"RMSE: {r_rmse:.2f}\")\n",
    "print(f\"MAE: {r_mae:.2f}\")"
   ]
  }
 ],
 "metadata": {
  "kernelspec": {
   "display_name": "venv",
   "language": "python",
   "name": "python3"
  },
  "language_info": {
   "codemirror_mode": {
    "name": "ipython",
    "version": 3
   },
   "file_extension": ".py",
   "mimetype": "text/x-python",
   "name": "python",
   "nbconvert_exporter": "python",
   "pygments_lexer": "ipython3",
   "version": "3.12.3"
  }
 },
 "nbformat": 4,
 "nbformat_minor": 5
}
